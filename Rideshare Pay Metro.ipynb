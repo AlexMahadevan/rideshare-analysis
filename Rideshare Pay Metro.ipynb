{
 "cells": [
  {
   "cell_type": "markdown",
   "metadata": {},
   "source": [
    "# Where is Rideshare the Most Lucrative?\n",
    "<p>A look at the [U.S. Census Bureau's Nonemployer Statistics](\"https://www.census.gov/programs-surveys/nonemployer-statistics/data/datasets.html?eml=gd&utm_medium=email&utm_source=govdelivery\") for metropolitan areas in 2016."
   ]
  },
  {
   "cell_type": "code",
   "execution_count": 1,
   "metadata": {},
   "outputs": [],
   "source": [
    "import pandas as pd\n",
    "import numpy as np\n",
    "%matplotlib inline"
   ]
  },
  {
   "cell_type": "markdown",
   "metadata": {},
   "source": [
    "### Read in the Data\n",
    "<p>Now, let's read in the county nonemployer business data for 2016.</p>\n",
    "<p>We will also need to read in a separate database with metro names to join to our full database.</p>"
   ]
  },
  {
   "cell_type": "code",
   "execution_count": 2,
   "metadata": {},
   "outputs": [],
   "source": [
    "bus2016 = pd.read_csv(\"/Users/alexmahadevan/Desktop/uber-change/nonemp16msa.txt\")\n",
    "metro_names = pd.read_csv(\"/Users/alexmahadevan/Desktop/uber-change/metro-fips.csv\", encoding=\"ISO-8859-1\")"
   ]
  },
  {
   "cell_type": "markdown",
   "metadata": {},
   "source": [
    "### Inspect the Data\n",
    "<p>Let's have a look at both datasets.</p>"
   ]
  },
  {
   "cell_type": "code",
   "execution_count": 3,
   "metadata": {},
   "outputs": [
    {
     "name": "stdout",
     "output_type": "stream",
     "text": [
      "<class 'pandas.core.frame.DataFrame'>\n",
      "RangeIndex: 349296 entries, 0 to 349295\n",
      "Data columns (total 7 columns):\n",
      "MSA           349296 non-null int64\n",
      "NAICS         349296 non-null object\n",
      "ESTAB_F       83279 non-null object\n",
      "ESTAB         349296 non-null int64\n",
      "RCPTOT_N_F    349296 non-null object\n",
      "RCPTOT_F      83279 non-null object\n",
      "RCPTOT        349296 non-null int64\n",
      "dtypes: int64(3), object(4)\n",
      "memory usage: 18.7+ MB\n"
     ]
    }
   ],
   "source": [
    "bus2016.info()"
   ]
  },
  {
   "cell_type": "code",
   "execution_count": 4,
   "metadata": {},
   "outputs": [
    {
     "name": "stdout",
     "output_type": "stream",
     "text": [
      "<class 'pandas.core.frame.DataFrame'>\n",
      "RangeIndex: 1899 entries, 0 to 1898\n",
      "Data columns (total 2 columns):\n",
      "MSA     1899 non-null int64\n",
      "NAME    1899 non-null object\n",
      "dtypes: int64(1), object(1)\n",
      "memory usage: 29.8+ KB\n"
     ]
    }
   ],
   "source": [
    "metro_names.info()"
   ]
  },
  {
   "cell_type": "markdown",
   "metadata": {},
   "source": [
    "### Clean and Filter the Data\n",
    "<p>We will have to removed some duplicates from the metro names list and filter for only \"taxi and limousine services\".</p> "
   ]
  },
  {
   "cell_type": "code",
   "execution_count": 5,
   "metadata": {},
   "outputs": [],
   "source": [
    "metro_names_deduplicated = metro_names.drop_duplicates()"
   ]
  },
  {
   "cell_type": "code",
   "execution_count": 6,
   "metadata": {},
   "outputs": [
    {
     "name": "stdout",
     "output_type": "stream",
     "text": [
      "<class 'pandas.core.frame.DataFrame'>\n",
      "Int64Index: 945 entries, 0 to 1898\n",
      "Data columns (total 2 columns):\n",
      "MSA     945 non-null int64\n",
      "NAME    945 non-null object\n",
      "dtypes: int64(1), object(1)\n",
      "memory usage: 22.1+ KB\n"
     ]
    }
   ],
   "source": [
    "metro_names_deduplicated.info()"
   ]
  },
  {
   "cell_type": "code",
   "execution_count": 7,
   "metadata": {},
   "outputs": [],
   "source": [
    "uber2016 = bus2016[bus2016[\"NAICS\"] == \"4853\"]"
   ]
  },
  {
   "cell_type": "code",
   "execution_count": 8,
   "metadata": {},
   "outputs": [
    {
     "data": {
      "text/plain": [
       "904"
      ]
     },
     "execution_count": 8,
     "metadata": {},
     "output_type": "execute_result"
    }
   ],
   "source": [
    "len(uber2016)"
   ]
  },
  {
   "cell_type": "markdown",
   "metadata": {},
   "source": [
    "<p>We should remove any bad data. Luckily, the Census Bureau flags observations that might have a high level of noise.</p>"
   ]
  },
  {
   "cell_type": "code",
   "execution_count": 9,
   "metadata": {},
   "outputs": [],
   "source": [
    "uber2016 = uber2016[uber2016[\"RCPTOT_N_F\"] != \"J\"]"
   ]
  },
  {
   "cell_type": "code",
   "execution_count": 10,
   "metadata": {},
   "outputs": [
    {
     "data": {
      "text/plain": [
       "762"
      ]
     },
     "execution_count": 10,
     "metadata": {},
     "output_type": "execute_result"
    }
   ],
   "source": [
    "len(uber2016)"
   ]
  },
  {
   "cell_type": "markdown",
   "metadata": {},
   "source": [
    "<p>Now let's join our datasets.</p>"
   ]
  },
  {
   "cell_type": "code",
   "execution_count": 11,
   "metadata": {},
   "outputs": [],
   "source": [
    "joined = pd.merge(uber2016, metro_names_deduplicated, on=\"MSA\")"
   ]
  },
  {
   "cell_type": "code",
   "execution_count": 12,
   "metadata": {},
   "outputs": [
    {
     "data": {
      "text/plain": [
       "762"
      ]
     },
     "execution_count": 12,
     "metadata": {},
     "output_type": "execute_result"
    }
   ],
   "source": [
    "len(joined)"
   ]
  },
  {
   "cell_type": "code",
   "execution_count": 13,
   "metadata": {},
   "outputs": [
    {
     "data": {
      "text/html": [
       "<div>\n",
       "<style scoped>\n",
       "    .dataframe tbody tr th:only-of-type {\n",
       "        vertical-align: middle;\n",
       "    }\n",
       "\n",
       "    .dataframe tbody tr th {\n",
       "        vertical-align: top;\n",
       "    }\n",
       "\n",
       "    .dataframe thead th {\n",
       "        text-align: right;\n",
       "    }\n",
       "</style>\n",
       "<table border=\"1\" class=\"dataframe\">\n",
       "  <thead>\n",
       "    <tr style=\"text-align: right;\">\n",
       "      <th></th>\n",
       "      <th>MSA</th>\n",
       "      <th>NAICS</th>\n",
       "      <th>ESTAB_F</th>\n",
       "      <th>ESTAB</th>\n",
       "      <th>RCPTOT_N_F</th>\n",
       "      <th>RCPTOT_F</th>\n",
       "      <th>RCPTOT</th>\n",
       "      <th>NAME</th>\n",
       "    </tr>\n",
       "  </thead>\n",
       "  <tbody>\n",
       "    <tr>\n",
       "      <th>0</th>\n",
       "      <td>10100</td>\n",
       "      <td>4853</td>\n",
       "      <td>S</td>\n",
       "      <td>0</td>\n",
       "      <td>S</td>\n",
       "      <td>S</td>\n",
       "      <td>0</td>\n",
       "      <td>Aberdeen, SD</td>\n",
       "    </tr>\n",
       "    <tr>\n",
       "      <th>1</th>\n",
       "      <td>10180</td>\n",
       "      <td>4853</td>\n",
       "      <td>NaN</td>\n",
       "      <td>52</td>\n",
       "      <td>H</td>\n",
       "      <td>NaN</td>\n",
       "      <td>415</td>\n",
       "      <td>Abilene, TX</td>\n",
       "    </tr>\n",
       "    <tr>\n",
       "      <th>2</th>\n",
       "      <td>10220</td>\n",
       "      <td>4853</td>\n",
       "      <td>D</td>\n",
       "      <td>0</td>\n",
       "      <td>D</td>\n",
       "      <td>D</td>\n",
       "      <td>0</td>\n",
       "      <td>Ada, OK</td>\n",
       "    </tr>\n",
       "    <tr>\n",
       "      <th>3</th>\n",
       "      <td>10300</td>\n",
       "      <td>4853</td>\n",
       "      <td>NaN</td>\n",
       "      <td>25</td>\n",
       "      <td>G</td>\n",
       "      <td>NaN</td>\n",
       "      <td>833</td>\n",
       "      <td>Adrian, MI</td>\n",
       "    </tr>\n",
       "    <tr>\n",
       "      <th>4</th>\n",
       "      <td>10420</td>\n",
       "      <td>4853</td>\n",
       "      <td>NaN</td>\n",
       "      <td>557</td>\n",
       "      <td>G</td>\n",
       "      <td>NaN</td>\n",
       "      <td>4677</td>\n",
       "      <td>Akron, OH</td>\n",
       "    </tr>\n",
       "  </tbody>\n",
       "</table>\n",
       "</div>"
      ],
      "text/plain": [
       "     MSA NAICS ESTAB_F  ESTAB RCPTOT_N_F RCPTOT_F  RCPTOT          NAME\n",
       "0  10100  4853       S      0          S        S       0  Aberdeen, SD\n",
       "1  10180  4853     NaN     52          H      NaN     415   Abilene, TX\n",
       "2  10220  4853       D      0          D        D       0       Ada, OK\n",
       "3  10300  4853     NaN     25          G      NaN     833    Adrian, MI\n",
       "4  10420  4853     NaN    557          G      NaN    4677     Akron, OH"
      ]
     },
     "execution_count": 13,
     "metadata": {},
     "output_type": "execute_result"
    }
   ],
   "source": [
    "joined.head()"
   ]
  },
  {
   "cell_type": "markdown",
   "metadata": {},
   "source": [
    "<p>Now, we're going to simplify the dataset. We only need a few of these fields.</p>"
   ]
  },
  {
   "cell_type": "code",
   "execution_count": 20,
   "metadata": {},
   "outputs": [],
   "source": [
    "uber_joined = joined[[\"MSA\", \"NAME\", \"RCPTOT\", \"ESTAB\"]]"
   ]
  },
  {
   "cell_type": "code",
   "execution_count": 21,
   "metadata": {},
   "outputs": [
    {
     "data": {
      "text/html": [
       "<div>\n",
       "<style scoped>\n",
       "    .dataframe tbody tr th:only-of-type {\n",
       "        vertical-align: middle;\n",
       "    }\n",
       "\n",
       "    .dataframe tbody tr th {\n",
       "        vertical-align: top;\n",
       "    }\n",
       "\n",
       "    .dataframe thead th {\n",
       "        text-align: right;\n",
       "    }\n",
       "</style>\n",
       "<table border=\"1\" class=\"dataframe\">\n",
       "  <thead>\n",
       "    <tr style=\"text-align: right;\">\n",
       "      <th></th>\n",
       "      <th>MSA</th>\n",
       "      <th>NAME</th>\n",
       "      <th>RCPTOT</th>\n",
       "      <th>ESTAB</th>\n",
       "    </tr>\n",
       "  </thead>\n",
       "  <tbody>\n",
       "    <tr>\n",
       "      <th>0</th>\n",
       "      <td>10100</td>\n",
       "      <td>Aberdeen, SD</td>\n",
       "      <td>0</td>\n",
       "      <td>0</td>\n",
       "    </tr>\n",
       "    <tr>\n",
       "      <th>1</th>\n",
       "      <td>10180</td>\n",
       "      <td>Abilene, TX</td>\n",
       "      <td>415</td>\n",
       "      <td>52</td>\n",
       "    </tr>\n",
       "    <tr>\n",
       "      <th>2</th>\n",
       "      <td>10220</td>\n",
       "      <td>Ada, OK</td>\n",
       "      <td>0</td>\n",
       "      <td>0</td>\n",
       "    </tr>\n",
       "    <tr>\n",
       "      <th>3</th>\n",
       "      <td>10300</td>\n",
       "      <td>Adrian, MI</td>\n",
       "      <td>833</td>\n",
       "      <td>25</td>\n",
       "    </tr>\n",
       "    <tr>\n",
       "      <th>4</th>\n",
       "      <td>10420</td>\n",
       "      <td>Akron, OH</td>\n",
       "      <td>4677</td>\n",
       "      <td>557</td>\n",
       "    </tr>\n",
       "  </tbody>\n",
       "</table>\n",
       "</div>"
      ],
      "text/plain": [
       "     MSA          NAME  RCPTOT  ESTAB\n",
       "0  10100  Aberdeen, SD       0      0\n",
       "1  10180   Abilene, TX     415     52\n",
       "2  10220       Ada, OK       0      0\n",
       "3  10300    Adrian, MI     833     25\n",
       "4  10420     Akron, OH    4677    557"
      ]
     },
     "execution_count": 21,
     "metadata": {},
     "output_type": "execute_result"
    }
   ],
   "source": [
    "uber_joined.head()"
   ]
  },
  {
   "cell_type": "markdown",
   "metadata": {},
   "source": [
    "### Analyze the Data\n",
    "<p>Now we get to the fun part. Let's create a new variable that shows the average earnings among drivers (\"ESTAB\"). We divide the total receipts collected in the metro area by the number of drivers.</p>"
   ]
  },
  {
   "cell_type": "code",
   "execution_count": 24,
   "metadata": {},
   "outputs": [],
   "source": [
    "uber_joined = uber_joined.copy()"
   ]
  },
  {
   "cell_type": "code",
   "execution_count": 25,
   "metadata": {
    "scrolled": true
   },
   "outputs": [],
   "source": [
    "uber_joined[\"per_capita\"] = uber_joined[\"RCPTOT\"] / uber_joined[\"ESTAB\"]"
   ]
  },
  {
   "cell_type": "code",
   "execution_count": 46,
   "metadata": {},
   "outputs": [],
   "source": [
    "uber2016_sorted = uber_joined.sort_values(\"per_capita\", ascending=False)"
   ]
  },
  {
   "cell_type": "markdown",
   "metadata": {},
   "source": [
    "<p>Now we send the unadjusted earnings to our folder.</p>"
   ]
  },
  {
   "cell_type": "code",
   "execution_count": 44,
   "metadata": {},
   "outputs": [],
   "source": [
    "uber2016_sorted.to_csv(\"/Users/alexmahadevan/Desktop/uber-change/uber_2016_sorted_earnings_msa.csv\")"
   ]
  },
  {
   "cell_type": "markdown",
   "metadata": {},
   "source": [
    "<p>But wait, we need to adjust for the cost of living of these areas! Let's use regional price parities from the [U.S. Bureau of Economic Analysis](\"https://www.bea.gov\") to do this. </p>"
   ]
  },
  {
   "cell_type": "code",
   "execution_count": 54,
   "metadata": {},
   "outputs": [],
   "source": [
    "rpp = pd.read_csv(\"/Users/alexmahadevan/Desktop/uber-change/rpp_msa.csv\")"
   ]
  },
  {
   "cell_type": "code",
   "execution_count": 55,
   "metadata": {},
   "outputs": [
    {
     "name": "stdout",
     "output_type": "stream",
     "text": [
      "<class 'pandas.core.frame.DataFrame'>\n",
      "RangeIndex: 383 entries, 0 to 382\n",
      "Data columns (total 2 columns):\n",
      "MSA    383 non-null int64\n",
      "rpp    383 non-null float64\n",
      "dtypes: float64(1), int64(1)\n",
      "memory usage: 6.1 KB\n"
     ]
    }
   ],
   "source": [
    "rpp.info()"
   ]
  },
  {
   "cell_type": "markdown",
   "metadata": {},
   "source": [
    "<p>Now we merge the datasets.</p>"
   ]
  },
  {
   "cell_type": "code",
   "execution_count": 57,
   "metadata": {},
   "outputs": [],
   "source": [
    "adjusted = pd.merge(uber2016_sorted, rpp, on=\"MSA\")"
   ]
  },
  {
   "cell_type": "code",
   "execution_count": 59,
   "metadata": {},
   "outputs": [
    {
     "data": {
      "text/html": [
       "<div>\n",
       "<style scoped>\n",
       "    .dataframe tbody tr th:only-of-type {\n",
       "        vertical-align: middle;\n",
       "    }\n",
       "\n",
       "    .dataframe tbody tr th {\n",
       "        vertical-align: top;\n",
       "    }\n",
       "\n",
       "    .dataframe thead th {\n",
       "        text-align: right;\n",
       "    }\n",
       "</style>\n",
       "<table border=\"1\" class=\"dataframe\">\n",
       "  <thead>\n",
       "    <tr style=\"text-align: right;\">\n",
       "      <th></th>\n",
       "      <th>MSA</th>\n",
       "      <th>NAME</th>\n",
       "      <th>ESTAB</th>\n",
       "      <th>RCPTOT</th>\n",
       "      <th>per_capita</th>\n",
       "      <th>rpp</th>\n",
       "    </tr>\n",
       "  </thead>\n",
       "  <tbody>\n",
       "    <tr>\n",
       "      <th>0</th>\n",
       "      <td>16940</td>\n",
       "      <td>Cheyenne, WY</td>\n",
       "      <td>11</td>\n",
       "      <td>1070</td>\n",
       "      <td>97.272727</td>\n",
       "      <td>97.4</td>\n",
       "    </tr>\n",
       "    <tr>\n",
       "      <th>1</th>\n",
       "      <td>20020</td>\n",
       "      <td>Dothan, AL</td>\n",
       "      <td>17</td>\n",
       "      <td>1003</td>\n",
       "      <td>59.000000</td>\n",
       "      <td>84.1</td>\n",
       "    </tr>\n",
       "    <tr>\n",
       "      <th>2</th>\n",
       "      <td>33740</td>\n",
       "      <td>Monroe, LA</td>\n",
       "      <td>40</td>\n",
       "      <td>2180</td>\n",
       "      <td>54.500000</td>\n",
       "      <td>84.7</td>\n",
       "    </tr>\n",
       "    <tr>\n",
       "      <th>3</th>\n",
       "      <td>20220</td>\n",
       "      <td>Dubuque, IA</td>\n",
       "      <td>38</td>\n",
       "      <td>1877</td>\n",
       "      <td>49.394737</td>\n",
       "      <td>91.5</td>\n",
       "    </tr>\n",
       "    <tr>\n",
       "      <th>4</th>\n",
       "      <td>33220</td>\n",
       "      <td>Midland, MI</td>\n",
       "      <td>8</td>\n",
       "      <td>380</td>\n",
       "      <td>47.500000</td>\n",
       "      <td>91.8</td>\n",
       "    </tr>\n",
       "  </tbody>\n",
       "</table>\n",
       "</div>"
      ],
      "text/plain": [
       "     MSA          NAME  ESTAB  RCPTOT  per_capita   rpp\n",
       "0  16940  Cheyenne, WY     11    1070   97.272727  97.4\n",
       "1  20020    Dothan, AL     17    1003   59.000000  84.1\n",
       "2  33740    Monroe, LA     40    2180   54.500000  84.7\n",
       "3  20220   Dubuque, IA     38    1877   49.394737  91.5\n",
       "4  33220   Midland, MI      8     380   47.500000  91.8"
      ]
     },
     "execution_count": 59,
     "metadata": {},
     "output_type": "execute_result"
    }
   ],
   "source": [
    "adjusted.head()"
   ]
  },
  {
   "cell_type": "markdown",
   "metadata": {},
   "source": [
    "<p>Now we add the deflator to control for the local prices.</p>"
   ]
  },
  {
   "cell_type": "code",
   "execution_count": 82,
   "metadata": {},
   "outputs": [],
   "source": [
    "adjusted[\"per_capita_adj\"] = adjusted[\"per_capita\"] / (adjusted[\"rpp\"] / 100)"
   ]
  },
  {
   "cell_type": "code",
   "execution_count": 83,
   "metadata": {},
   "outputs": [
    {
     "data": {
      "text/html": [
       "<div>\n",
       "<style scoped>\n",
       "    .dataframe tbody tr th:only-of-type {\n",
       "        vertical-align: middle;\n",
       "    }\n",
       "\n",
       "    .dataframe tbody tr th {\n",
       "        vertical-align: top;\n",
       "    }\n",
       "\n",
       "    .dataframe thead th {\n",
       "        text-align: right;\n",
       "    }\n",
       "</style>\n",
       "<table border=\"1\" class=\"dataframe\">\n",
       "  <thead>\n",
       "    <tr style=\"text-align: right;\">\n",
       "      <th></th>\n",
       "      <th>MSA</th>\n",
       "      <th>NAME</th>\n",
       "      <th>ESTAB</th>\n",
       "      <th>RCPTOT</th>\n",
       "      <th>per_capita</th>\n",
       "      <th>rpp</th>\n",
       "      <th>per_capita_adj</th>\n",
       "    </tr>\n",
       "  </thead>\n",
       "  <tbody>\n",
       "    <tr>\n",
       "      <th>0</th>\n",
       "      <td>16940</td>\n",
       "      <td>Cheyenne, WY</td>\n",
       "      <td>11</td>\n",
       "      <td>1070</td>\n",
       "      <td>97.272727</td>\n",
       "      <td>97.4</td>\n",
       "      <td>99.869330</td>\n",
       "    </tr>\n",
       "    <tr>\n",
       "      <th>1</th>\n",
       "      <td>20020</td>\n",
       "      <td>Dothan, AL</td>\n",
       "      <td>17</td>\n",
       "      <td>1003</td>\n",
       "      <td>59.000000</td>\n",
       "      <td>84.1</td>\n",
       "      <td>70.154578</td>\n",
       "    </tr>\n",
       "    <tr>\n",
       "      <th>2</th>\n",
       "      <td>33740</td>\n",
       "      <td>Monroe, LA</td>\n",
       "      <td>40</td>\n",
       "      <td>2180</td>\n",
       "      <td>54.500000</td>\n",
       "      <td>84.7</td>\n",
       "      <td>64.344746</td>\n",
       "    </tr>\n",
       "    <tr>\n",
       "      <th>3</th>\n",
       "      <td>20220</td>\n",
       "      <td>Dubuque, IA</td>\n",
       "      <td>38</td>\n",
       "      <td>1877</td>\n",
       "      <td>49.394737</td>\n",
       "      <td>91.5</td>\n",
       "      <td>53.983319</td>\n",
       "    </tr>\n",
       "    <tr>\n",
       "      <th>4</th>\n",
       "      <td>33220</td>\n",
       "      <td>Midland, MI</td>\n",
       "      <td>8</td>\n",
       "      <td>380</td>\n",
       "      <td>47.500000</td>\n",
       "      <td>91.8</td>\n",
       "      <td>51.742919</td>\n",
       "    </tr>\n",
       "  </tbody>\n",
       "</table>\n",
       "</div>"
      ],
      "text/plain": [
       "     MSA          NAME  ESTAB  RCPTOT  per_capita   rpp  per_capita_adj\n",
       "0  16940  Cheyenne, WY     11    1070   97.272727  97.4       99.869330\n",
       "1  20020    Dothan, AL     17    1003   59.000000  84.1       70.154578\n",
       "2  33740    Monroe, LA     40    2180   54.500000  84.7       64.344746\n",
       "3  20220   Dubuque, IA     38    1877   49.394737  91.5       53.983319\n",
       "4  33220   Midland, MI      8     380   47.500000  91.8       51.742919"
      ]
     },
     "execution_count": 83,
     "metadata": {},
     "output_type": "execute_result"
    }
   ],
   "source": [
    "adjusted.head()"
   ]
  },
  {
   "cell_type": "markdown",
   "metadata": {},
   "source": [
    "</p>Again, send it to our folder.</p>"
   ]
  },
  {
   "cell_type": "code",
   "execution_count": 64,
   "metadata": {},
   "outputs": [],
   "source": [
    "adjusted.to_csv(\"/Users/alexmahadevan/Desktop/uber-change/uber_2016_sorted_earnings_msa_adjusted.csv\")"
   ]
  },
  {
   "cell_type": "markdown",
   "metadata": {},
   "source": [
    "<p>Finally, we need to find the median number of drivers to establish a cutoff for our list.</p>"
   ]
  },
  {
   "cell_type": "code",
   "execution_count": 84,
   "metadata": {},
   "outputs": [
    {
     "data": {
      "text/plain": [
       "count       363.000000\n",
       "mean       1901.220386\n",
       "std        8732.078626\n",
       "min           8.000000\n",
       "25%          45.500000\n",
       "50%         146.000000\n",
       "75%         608.000000\n",
       "max      131778.000000\n",
       "Name: ESTAB, dtype: float64"
      ]
     },
     "execution_count": 84,
     "metadata": {},
     "output_type": "execute_result"
    }
   ],
   "source": [
    "adjusted[\"ESTAB\"].describe()"
   ]
  },
  {
   "cell_type": "code",
   "execution_count": 85,
   "metadata": {},
   "outputs": [],
   "source": [
    "adjusted_trimmed = adjusted[adjusted[\"ESTAB\"] > 146]"
   ]
  },
  {
   "cell_type": "markdown",
   "metadata": {},
   "source": [
    "Now, we have our final list! Make sure to check out [The Penny Hoarder](\"https://www.thepennyhoarder.com\") for more ways to put more money in your pocket!"
   ]
  }
 ],
 "metadata": {
  "kernelspec": {
   "display_name": "Python 3",
   "language": "python",
   "name": "python3"
  },
  "language_info": {
   "codemirror_mode": {
    "name": "ipython",
    "version": 3
   },
   "file_extension": ".py",
   "mimetype": "text/x-python",
   "name": "python",
   "nbconvert_exporter": "python",
   "pygments_lexer": "ipython3",
   "version": "3.6.1"
  }
 },
 "nbformat": 4,
 "nbformat_minor": 2
}
